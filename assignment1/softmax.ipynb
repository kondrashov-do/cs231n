{
 "cells": [
  {
   "cell_type": "markdown",
   "metadata": {},
   "source": [
    "# Softmax exercise\n",
    "\n",
    "*Complete and hand in this completed worksheet (including its outputs and any supporting code outside of the worksheet) with your assignment submission. For more details see the [assignments page](http://vision.stanford.edu/teaching/cs231n/assignments.html) on the course website.*\n",
    "\n",
    "This exercise is analogous to the SVM exercise. You will:\n",
    "\n",
    "- implement a fully-vectorized **loss function** for the Softmax classifier\n",
    "- implement the fully-vectorized expression for its **analytic gradient**\n",
    "- **check your implementation** with numerical gradient\n",
    "- use a validation set to **tune the learning rate and regularization** strength\n",
    "- **optimize** the loss function with **SGD**\n",
    "- **visualize** the final learned weights\n"
   ]
  },
  {
   "cell_type": "code",
   "execution_count": 2,
   "metadata": {
    "collapsed": false
   },
   "outputs": [],
   "source": [
    "import random\n",
    "import numpy as np\n",
    "from cs231n.data_utils import load_CIFAR10\n",
    "import matplotlib.pyplot as plt\n",
    "\n",
    "from __future__ import print_function\n",
    "\n",
    "%matplotlib inline\n",
    "plt.rcParams['figure.figsize'] = (10.0, 8.0) # set default size of plots\n",
    "plt.rcParams['image.interpolation'] = 'nearest'\n",
    "plt.rcParams['image.cmap'] = 'gray'\n",
    "\n",
    "# for auto-reloading extenrnal modules\n",
    "# see http://stackoverflow.com/questions/1907993/autoreload-of-modules-in-ipython\n",
    "%load_ext autoreload\n",
    "%autoreload 2"
   ]
  },
  {
   "cell_type": "code",
   "execution_count": 3,
   "metadata": {
    "collapsed": false
   },
   "outputs": [
    {
     "name": "stdout",
     "output_type": "stream",
     "text": [
      "Train data shape:  (49000, 3073)\n",
      "Train labels shape:  (49000,)\n",
      "Validation data shape:  (1000, 3073)\n",
      "Validation labels shape:  (1000,)\n",
      "Test data shape:  (1000, 3073)\n",
      "Test labels shape:  (1000,)\n",
      "dev data shape:  (500, 3073)\n",
      "dev labels shape:  (500,)\n"
     ]
    }
   ],
   "source": [
    "def get_CIFAR10_data(num_training=49000, num_validation=1000, num_test=1000, num_dev=500):\n",
    "    \"\"\"\n",
    "    Load the CIFAR-10 dataset from disk and perform preprocessing to prepare\n",
    "    it for the linear classifier. These are the same steps as we used for the\n",
    "    SVM, but condensed to a single function.  \n",
    "    \"\"\"\n",
    "    # Load the raw CIFAR-10 data\n",
    "    cifar10_dir = 'cs231n/datasets/cifar-10-batches-py'\n",
    "    X_train, y_train, X_test, y_test = load_CIFAR10(cifar10_dir)\n",
    "    \n",
    "    # subsample the data\n",
    "    mask = list(range(num_training, num_training + num_validation))\n",
    "    X_val = X_train[mask]\n",
    "    y_val = y_train[mask]\n",
    "    mask = list(range(num_training))\n",
    "    X_train = X_train[mask]\n",
    "    y_train = y_train[mask]\n",
    "    mask = list(range(num_test))\n",
    "    X_test = X_test[mask]\n",
    "    y_test = y_test[mask]\n",
    "    mask = np.random.choice(num_training, num_dev, replace=False)\n",
    "    X_dev = X_train[mask]\n",
    "    y_dev = y_train[mask]\n",
    "    \n",
    "    # Preprocessing: reshape the image data into rows\n",
    "    X_train = np.reshape(X_train, (X_train.shape[0], -1))\n",
    "    X_val = np.reshape(X_val, (X_val.shape[0], -1))\n",
    "    X_test = np.reshape(X_test, (X_test.shape[0], -1))\n",
    "    X_dev = np.reshape(X_dev, (X_dev.shape[0], -1))\n",
    "    \n",
    "    # Normalize the data: subtract the mean image\n",
    "    mean_image = np.mean(X_train, axis = 0)\n",
    "    X_train -= mean_image\n",
    "    X_val -= mean_image\n",
    "    X_test -= mean_image\n",
    "    X_dev -= mean_image\n",
    "    \n",
    "    # add bias dimension and transform into columns\n",
    "    X_train = np.hstack([X_train, np.ones((X_train.shape[0], 1))])\n",
    "    X_val = np.hstack([X_val, np.ones((X_val.shape[0], 1))])\n",
    "    X_test = np.hstack([X_test, np.ones((X_test.shape[0], 1))])\n",
    "    X_dev = np.hstack([X_dev, np.ones((X_dev.shape[0], 1))])\n",
    "    \n",
    "    return X_train, y_train, X_val, y_val, X_test, y_test, X_dev, y_dev\n",
    "\n",
    "\n",
    "# Invoke the above function to get our data.\n",
    "X_train, y_train, X_val, y_val, X_test, y_test, X_dev, y_dev = get_CIFAR10_data()\n",
    "print('Train data shape: ', X_train.shape)\n",
    "print('Train labels shape: ', y_train.shape)\n",
    "print('Validation data shape: ', X_val.shape)\n",
    "print('Validation labels shape: ', y_val.shape)\n",
    "print('Test data shape: ', X_test.shape)\n",
    "print('Test labels shape: ', y_test.shape)\n",
    "print('dev data shape: ', X_dev.shape)\n",
    "print('dev labels shape: ', y_dev.shape)"
   ]
  },
  {
   "cell_type": "markdown",
   "metadata": {},
   "source": [
    "## Softmax Classifier\n",
    "\n",
    "Your code for this section will all be written inside **cs231n/classifiers/softmax.py**. \n"
   ]
  },
  {
   "cell_type": "code",
   "execution_count": 15,
   "metadata": {
    "collapsed": false
   },
   "outputs": [
    {
     "name": "stdout",
     "output_type": "stream",
     "text": [
      "(3073, 10)\n",
      "X shape =  (500, 3073)\n",
      "(3073, 10)\n",
      "loss: 2.412767\n",
      "sanity check: 2.302585\n",
      "grad [[ -4.14693491e+00  -1.18796978e-01  -1.89415909e-01 ...,   2.36440318e+00\n",
      "   -1.39579490e+00  -4.31313472e+00]\n",
      " [ -4.97167622e+00  -3.90786141e-01   3.33241995e-01 ...,   1.50024733e+00\n",
      "   -2.36522839e+00  -4.45713747e+00]\n",
      " [ -7.12740498e+00  -9.39453651e-01   1.82747138e+00 ...,   1.54226270e+00\n",
      "   -4.30373102e+00  -5.32331939e+00]\n",
      " ..., \n",
      " [ -2.43390317e+00  -1.32972470e-01   6.13864012e-01 ...,  -4.61563975e-01\n",
      "    1.71075552e+00  -5.96595653e-01]\n",
      " [ -3.91421429e+00  -4.87123980e-01   1.17501752e+00 ...,   1.83231283e+00\n",
      "   -1.78155646e-01  -1.70839449e+00]\n",
      " [  1.25934959e-02   1.18774731e-03  -1.70587075e-03 ...,  -1.28643907e-02\n",
      "   -8.17146667e-03  -1.82846622e-02]]\n"
     ]
    }
   ],
   "source": [
    "# First implement the naive softmax loss function with nested loops.\n",
    "# Open the file cs231n/classifiers/softmax.py and implement the\n",
    "# softmax_loss_naive function.\n",
    "\n",
    "from cs231n.classifiers.softmax import softmax_loss_naive\n",
    "import time\n",
    "\n",
    "# Generate a random softmax weight matrix and use it to compute the loss.\n",
    "W = np.random.randn(3073, 10) * 0.0001\n",
    "loss, grad = softmax_loss_naive(W, X_dev, y_dev, 0.0)\n",
    "\n",
    "# As a rough sanity check, our loss should be something close to -log(0.1).\n",
    "print('X shape = ', X_dev.shape)\n",
    "print(W.shape)\n",
    "print('loss: %f' % loss)\n",
    "print('sanity check: %f' % (-np.log(0.1)))\n",
    "print('grad', grad)"
   ]
  },
  {
   "cell_type": "markdown",
   "metadata": {},
   "source": [
    "## Inline Question 1:\n",
    "Why do we expect our loss to be close to -log(0.1)? Explain briefly.**\n",
    "\n",
    "**Your answer:** *Fill this in*\n"
   ]
  },
  {
   "cell_type": "code",
   "execution_count": 17,
   "metadata": {
    "collapsed": false
   },
   "outputs": [
    {
     "name": "stdout",
     "output_type": "stream",
     "text": [
      "numerical: 2.884470 analytic: 2.884470, relative error: 6.273652e-09\n",
      "numerical: -7.258987 analytic: -7.258987, relative error: 4.240289e-09\n",
      "numerical: -6.176585 analytic: -6.176585, relative error: 1.023240e-08\n",
      "numerical: 2.010694 analytic: 2.010693, relative error: 5.073920e-08\n",
      "numerical: 0.232116 analytic: 0.232116, relative error: 2.354366e-08\n",
      "numerical: -1.075687 analytic: -1.075687, relative error: 1.441030e-08\n",
      "numerical: -1.553957 analytic: -1.553957, relative error: 1.238837e-08\n",
      "numerical: 0.141346 analytic: 0.141346, relative error: 4.174041e-07\n",
      "numerical: 0.993879 analytic: 0.993879, relative error: 1.794226e-08\n",
      "numerical: -4.529405 analytic: -4.529405, relative error: 4.236605e-09\n",
      "numerical: 0.129290 analytic: 0.129290, relative error: 4.563388e-07\n",
      "numerical: 1.065545 analytic: 1.065545, relative error: 4.545729e-09\n",
      "numerical: -2.092453 analytic: -2.092454, relative error: 1.013649e-08\n",
      "numerical: -1.044476 analytic: -1.044476, relative error: 1.574552e-08\n",
      "numerical: -0.672474 analytic: -0.672474, relative error: 7.657481e-08\n",
      "numerical: 0.524700 analytic: 0.524700, relative error: 5.599520e-08\n",
      "numerical: 2.635234 analytic: 2.635234, relative error: 7.358766e-09\n",
      "numerical: 3.239759 analytic: 3.239758, relative error: 7.934827e-09\n",
      "numerical: -0.016018 analytic: -0.016018, relative error: 3.060993e-07\n",
      "numerical: 0.967821 analytic: 0.967820, relative error: 5.334343e-08\n"
     ]
    }
   ],
   "source": [
    "# Complete the implementation of softmax_loss_naive and implement a (naive)\n",
    "# version of the gradient that uses nested loops.\n",
    "loss, grad = softmax_loss_naive(W, X_dev, y_dev, 0.0)\n",
    "\n",
    "# As we did for the SVM, use numeric gradient checking as a debugging tool.\n",
    "# The numeric gradient should be close to the analytic gradient.\n",
    "from cs231n.gradient_check import grad_check_sparse\n",
    "f = lambda w: softmax_loss_naive(w, X_dev, y_dev, 0.0)[0]\n",
    "grad_numerical = grad_check_sparse(f, W, grad, 10)\n",
    "\n",
    "# similar to SVM case, do another gradient check with regularization\n",
    "loss, grad = softmax_loss_naive(W, X_dev, y_dev, 5e1)\n",
    "f = lambda w: softmax_loss_naive(w, X_dev, y_dev, 5e1)[0]\n",
    "grad_numerical = grad_check_sparse(f, W, grad, 10)"
   ]
  },
  {
   "cell_type": "code",
   "execution_count": 25,
   "metadata": {
    "collapsed": false
   },
   "outputs": [
    {
     "name": "stdout",
     "output_type": "stream",
     "text": [
      "naive loss: 2.412767e+00 computed in 0.119403s\n",
      "vectorized loss: 2.412767e+00 computed in 0.053980s\n",
      "Loss difference: 0.000000\n",
      "Gradient difference: 0.000000\n"
     ]
    }
   ],
   "source": [
    "# Now that we have a naive implementation of the softmax loss function and its gradient,\n",
    "# implement a vectorized version in softmax_loss_vectorized.\n",
    "# The two versions should compute the same results, but the vectorized version should be\n",
    "# much faster.\n",
    "tic = time.time()\n",
    "loss_naive, grad_naive = softmax_loss_naive(W, X_dev, y_dev, 0.000005)\n",
    "toc = time.time()\n",
    "print('naive loss: %e computed in %fs' % (loss_naive, toc - tic))\n",
    "\n",
    "from cs231n.classifiers.softmax import softmax_loss_vectorized\n",
    "tic = time.time()\n",
    "loss_vectorized, grad_vectorized = softmax_loss_vectorized(W, X_dev, y_dev, 0.000005)\n",
    "toc = time.time()\n",
    "print('vectorized loss: %e computed in %fs' % (loss_vectorized, toc - tic))\n",
    "\n",
    "# As we did for the SVM, we use the Frobenius norm to compare the two versions\n",
    "# of the gradient.\n",
    "grad_difference = np.linalg.norm(grad_naive - grad_vectorized, ord='fro')\n",
    "print('Loss difference: %f' % np.abs(loss_naive - loss_vectorized))\n",
    "print('Gradient difference: %f' % grad_difference)"
   ]
  },
  {
   "cell_type": "code",
   "execution_count": 28,
   "metadata": {
    "collapsed": false
   },
   "outputs": [
    {
     "name": "stdout",
     "output_type": "stream",
     "text": [
      "iteration 0 / 2000: loss 387.612992\n",
      "iteration 100 / 2000: loss 384.874850\n",
      "iteration 200 / 2000: loss 383.751187\n",
      "iteration 300 / 2000: loss 383.321427\n",
      "iteration 400 / 2000: loss 382.778164\n",
      "iteration 500 / 2000: loss 382.451055\n",
      "iteration 600 / 2000: loss 382.055831\n",
      "iteration 700 / 2000: loss 381.072647\n",
      "iteration 800 / 2000: loss 380.784104\n",
      "iteration 900 / 2000: loss 380.268982\n",
      "iteration 1000 / 2000: loss 380.236561\n",
      "iteration 1100 / 2000: loss 379.415889\n",
      "iteration 1200 / 2000: loss 379.492359\n",
      "iteration 1300 / 2000: loss 378.903032\n",
      "iteration 1400 / 2000: loss 378.575601\n",
      "iteration 1500 / 2000: loss 378.171103\n",
      "iteration 1600 / 2000: loss 378.066102\n",
      "iteration 1700 / 2000: loss 377.545976\n",
      "iteration 1800 / 2000: loss 377.462653\n",
      "iteration 1900 / 2000: loss 377.181830\n",
      "iteration 0 / 2000: loss 779.382289\n",
      "iteration 100 / 2000: loss 776.095519\n",
      "iteration 200 / 2000: loss 774.435244\n",
      "iteration 300 / 2000: loss 772.932293\n",
      "iteration 400 / 2000: loss 772.027500\n",
      "iteration 500 / 2000: loss 770.908658\n",
      "iteration 600 / 2000: loss 769.678959\n",
      "iteration 700 / 2000: loss 768.712348\n",
      "iteration 800 / 2000: loss 767.689568\n",
      "iteration 900 / 2000: loss 767.438822\n",
      "iteration 1000 / 2000: loss 766.234380\n",
      "iteration 1100 / 2000: loss 765.713032\n",
      "iteration 1200 / 2000: loss 764.586944\n",
      "iteration 1300 / 2000: loss 763.972290\n",
      "iteration 1400 / 2000: loss 763.601934\n",
      "iteration 1500 / 2000: loss 762.760289\n",
      "iteration 1600 / 2000: loss 762.148614\n",
      "iteration 1700 / 2000: loss 761.562930\n",
      "iteration 1800 / 2000: loss 760.982367\n",
      "iteration 1900 / 2000: loss 760.296416\n",
      "iteration 0 / 2000: loss 394.952722\n",
      "iteration 100 / 2000: loss 389.103842\n",
      "iteration 200 / 2000: loss 386.940315\n",
      "iteration 300 / 2000: loss 384.789286\n",
      "iteration 400 / 2000: loss 382.935026\n",
      "iteration 500 / 2000: loss 382.003380\n",
      "iteration 600 / 2000: loss 380.402879\n",
      "iteration 700 / 2000: loss 379.262113\n",
      "iteration 800 / 2000: loss 377.967887\n",
      "iteration 900 / 2000: loss 376.956741\n",
      "iteration 1000 / 2000: loss 375.973937\n",
      "iteration 1100 / 2000: loss 374.850013\n",
      "iteration 1200 / 2000: loss 373.849652\n",
      "iteration 1300 / 2000: loss 372.961435\n",
      "iteration 1400 / 2000: loss 372.094186\n",
      "iteration 1500 / 2000: loss 371.262616\n",
      "iteration 1600 / 2000: loss 370.537871\n",
      "iteration 1700 / 2000: loss 369.729163\n",
      "iteration 1800 / 2000: loss 368.778728\n",
      "iteration 1900 / 2000: loss 368.272498\n",
      "iteration 0 / 2000: loss 780.233537\n",
      "iteration 100 / 2000: loss 769.963616\n",
      "iteration 200 / 2000: loss 765.754967\n",
      "iteration 300 / 2000: loss 762.306304\n",
      "iteration 400 / 2000: loss 758.991376\n",
      "iteration 500 / 2000: loss 756.158684\n",
      "iteration 600 / 2000: loss 753.535143\n",
      "iteration 700 / 2000: loss 751.215258\n",
      "iteration 800 / 2000: loss 748.859770\n",
      "iteration 900 / 2000: loss 746.898486\n",
      "iteration 1000 / 2000: loss 744.911095\n",
      "iteration 1100 / 2000: loss 742.970679\n",
      "iteration 1200 / 2000: loss 741.527311\n",
      "iteration 1300 / 2000: loss 739.523034\n",
      "iteration 1400 / 2000: loss 738.162016\n",
      "iteration 1500 / 2000: loss 736.599610\n",
      "iteration 1600 / 2000: loss 735.012628\n",
      "iteration 1700 / 2000: loss 733.671326\n",
      "iteration 1800 / 2000: loss 732.479540\n",
      "iteration 1900 / 2000: loss 730.867829\n",
      "lr 1.000000e-07 reg 2.500000e+04 train accuracy: 0.252224 val accuracy: 0.247000\n",
      "lr 1.000000e-07 reg 5.000000e+04 train accuracy: 0.258429 val accuracy: 0.246000\n",
      "lr 5.000000e-07 reg 2.500000e+04 train accuracy: 0.331898 val accuracy: 0.324000\n",
      "lr 5.000000e-07 reg 5.000000e+04 train accuracy: 0.331612 val accuracy: 0.332000\n",
      "best validation accuracy achieved during cross-validation: 0.332000\n"
     ]
    }
   ],
   "source": [
    "# Use the validation set to tune hyperparameters (regularization strength and\n",
    "# learning rate). You should experiment with different ranges for the learning\n",
    "# rates and regularization strengths; if you are careful you should be able to\n",
    "# get a classification accuracy of over 0.35 on the validation set.\n",
    "from cs231n.classifiers import Softmax\n",
    "results = {}\n",
    "best_val = -1\n",
    "best_softmax = None\n",
    "learning_rates = [1e-7, 5e-7]\n",
    "regularization_strengths = [2.5e4, 5e4]\n",
    "\n",
    "################################################################################\n",
    "# TODO:                                                                        #\n",
    "# Use the validation set to set the learning rate and regularization strength. #\n",
    "# This should be identical to the validation that you did for the SVM; save    #\n",
    "# the best trained softmax classifer in best_softmax.                          #\n",
    "################################################################################\n",
    "#pass\n",
    "for lr in learning_rates:\n",
    "    for rs in regularization_strengths:\n",
    "        softmax = Softmax()\n",
    "        softmax.train(X_train, y_train, learning_rate=lr, reg=rs, num_iters=2000,\n",
    "                     verbose=True)\n",
    "        y_train_pred = softmax.predict(X_train)\n",
    "        y_val_pred = softmax.predict(X_val)\n",
    "        train_accuracy = np.mean(y_train == y_train_pred)\n",
    "        val_accuracy = np.mean(y_val == y_val_pred)\n",
    "        if val_accuracy > best_val:\n",
    "            best_val = val_accuracy\n",
    "            best_softmax = softmax\n",
    "        results[(lr,rs)] = train_accuracy, val_accuracy\n",
    "################################################################################\n",
    "#                              END OF YOUR CODE                                #\n",
    "################################################################################\n",
    "    \n",
    "# Print out results.\n",
    "for lr, reg in sorted(results):\n",
    "    train_accuracy, val_accuracy = results[(lr, reg)]\n",
    "    print('lr %e reg %e train accuracy: %f val accuracy: %f' % (\n",
    "                lr, reg, train_accuracy, val_accuracy))\n",
    "    \n",
    "print('best validation accuracy achieved during cross-validation: %f' % best_val)"
   ]
  },
  {
   "cell_type": "code",
   "execution_count": 29,
   "metadata": {
    "collapsed": false
   },
   "outputs": [
    {
     "name": "stdout",
     "output_type": "stream",
     "text": [
      "softmax on raw pixels final test set accuracy: 0.311000\n"
     ]
    }
   ],
   "source": [
    "# evaluate on test set\n",
    "# Evaluate the best softmax on test set\n",
    "y_test_pred = best_softmax.predict(X_test)\n",
    "test_accuracy = np.mean(y_test == y_test_pred)\n",
    "print('softmax on raw pixels final test set accuracy: %f' % (test_accuracy, ))"
   ]
  },
  {
   "cell_type": "code",
   "execution_count": 30,
   "metadata": {
    "collapsed": false
   },
   "outputs": [
    {
     "data": {
      "image/png": "[encoded data removed]",
      "text/plain": [
       "<matplotlib.figure.Figure at 0x7fa50ff4dfd0>"
      ]
     },
     "metadata": {},
     "output_type": "display_data"
    }
   ],
   "source": [
    "# Visualize the learned weights for each class\n",
    "w = best_softmax.W[:-1,:] # strip out the bias\n",
    "w = w.reshape(32, 32, 3, 10)\n",
    "\n",
    "w_min, w_max = np.min(w), np.max(w)\n",
    "\n",
    "classes = ['plane', 'car', 'bird', 'cat', 'deer', 'dog', 'frog', 'horse', 'ship', 'truck']\n",
    "for i in range(10):\n",
    "    plt.subplot(2, 5, i + 1)\n",
    "    \n",
    "    # Rescale the weights to be between 0 and 255\n",
    "    wimg = 255.0 * (w[:, :, :, i].squeeze() - w_min) / (w_max - w_min)\n",
    "    plt.imshow(wimg.astype('uint8'))\n",
    "    plt.axis('off')\n",
    "    plt.title(classes[i])"
   ]
  }
 ],
 "metadata": {
  "kernelspec": {
   "display_name": "Python 3",
   "language": "python",
   "name": "python3"
  },
  "language_info": {
   "codemirror_mode": {
    "name": "ipython",
    "version": 3
   },
   "file_extension": ".py",
   "mimetype": "text/x-python",
   "name": "python",
   "nbconvert_exporter": "python",
   "pygments_lexer": "ipython3",
   "version": "3.6.2"
  }
 },
 "nbformat": 4,
 "nbformat_minor": 0
}
